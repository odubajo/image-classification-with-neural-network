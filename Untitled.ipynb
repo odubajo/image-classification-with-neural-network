{
 "cells": [
  {
   "cell_type": "code",
   "execution_count": 1,
   "id": "989d741a",
   "metadata": {},
   "outputs": [],
   "source": [
    "import tensorflow as tf\n",
    "from tensorflow.keras import datasets,layers,models\n",
    "import matplotlib.pyplot as plt\n",
    "import numpy as np\n",
    "from sklearn.metrics import confusion_matrix, classification_report"
   ]
  },
  {
   "cell_type": "code",
   "execution_count": 2,
   "id": "c9b021e3",
   "metadata": {},
   "outputs": [],
   "source": [
    "(X_train,y_train),(X_test,y_test)=datasets.cifar10.load_data()"
   ]
  },
  {
   "cell_type": "code",
   "execution_count": 3,
   "id": "2f11da94",
   "metadata": {},
   "outputs": [
    {
     "data": {
      "text/plain": [
       "(50000, 32, 32, 3)"
      ]
     },
     "execution_count": 3,
     "metadata": {},
     "output_type": "execute_result"
    }
   ],
   "source": [
    "X_train.shape"
   ]
  },
  {
   "cell_type": "code",
   "execution_count": 4,
   "id": "109379c6",
   "metadata": {},
   "outputs": [
    {
     "data": {
      "text/plain": [
       "<matplotlib.image.AxesImage at 0x235c18a83a0>"
      ]
     },
     "execution_count": 4,
     "metadata": {},
     "output_type": "execute_result"
    },
    {
     "data": {
      "image/png": "[encoded data removed]",
      "text/plain": [
       "<Figure size 432x288 with 1 Axes>"
      ]
     },
     "metadata": {
      "needs_background": "light"
     },
     "output_type": "display_data"
    }
   ],
   "source": [
    "plt.imshow(X_train[2])"
   ]
  },
  {
   "cell_type": "code",
   "execution_count": 5,
   "id": "807e99ad",
   "metadata": {},
   "outputs": [
    {
     "data": {
      "text/plain": [
       "array([6, 9, 9, 4, 1], dtype=uint8)"
      ]
     },
     "execution_count": 5,
     "metadata": {},
     "output_type": "execute_result"
    }
   ],
   "source": [
    "y_train=y_train.reshape(-1,)\n",
    "y_train[:5]"
   ]
  },
  {
   "cell_type": "code",
   "execution_count": 6,
   "id": "25be39ad",
   "metadata": {},
   "outputs": [],
   "source": [
    "classes=['airplane','automobile','bird','cat','deer','dog','frog','horse','ship','truck']"
   ]
  },
  {
   "cell_type": "code",
   "execution_count": 7,
   "id": "72693974",
   "metadata": {},
   "outputs": [],
   "source": [
    "def plo_sample(x,y,index):\n",
    "    plt.figure(figsize=(15,2))\n",
    "    plt.imshow(X[index])\n",
    "    pl.xlabel(classes[y[index]])"
   ]
  },
  {
   "cell_type": "code",
   "execution_count": 8,
   "id": "7ec9da4b",
   "metadata": {},
   "outputs": [],
   "source": [
    "X_train=X_train/255\n",
    "X_test=X_test/255"
   ]
  },
  {
   "cell_type": "code",
   "execution_count": 9,
   "id": "c7e9a7bc",
   "metadata": {},
   "outputs": [
    {
     "data": {
      "text/plain": [
       "(50000, 32, 32, 3)"
      ]
     },
     "execution_count": 9,
     "metadata": {},
     "output_type": "execute_result"
    }
   ],
   "source": [
    "X_train.shape"
   ]
  },
  {
   "cell_type": "markdown",
   "id": "52980a0d",
   "metadata": {},
   "source": [
    "### artificial neural network"
   ]
  },
  {
   "cell_type": "code",
   "execution_count": 10,
   "id": "93c9d947",
   "metadata": {},
   "outputs": [
    {
     "name": "stdout",
     "output_type": "stream",
     "text": [
      "Epoch 1/5\n",
      "1563/1563 [==============================] - 76s 48ms/step - loss: 1.8119 - accuracy: 0.3539\n",
      "Epoch 2/5\n",
      "1563/1563 [==============================] - 77s 50ms/step - loss: 1.6241 - accuracy: 0.4259\n",
      "Epoch 3/5\n",
      "1563/1563 [==============================] - 77s 50ms/step - loss: 1.5423 - accuracy: 0.4569\n",
      "Epoch 4/5\n",
      "1563/1563 [==============================] - 78s 50ms/step - loss: 1.4795 - accuracy: 0.4802\n",
      "Epoch 5/5\n",
      "1563/1563 [==============================] - 74s 48ms/step - loss: 1.4305 - accuracy: 0.4942\n"
     ]
    },
    {
     "data": {
      "text/plain": [
       "<keras.callbacks.History at 0x235b96babb0>"
      ]
     },
     "execution_count": 10,
     "metadata": {},
     "output_type": "execute_result"
    }
   ],
   "source": [
    "ann_model=models.Sequential([\n",
    "    layers.Flatten(input_shape=(32,32,3)),\n",
    "    layers.Dense(3000,activation='relu'),\n",
    "    layers.Dense(1000,activation='relu'),\n",
    "    layers.Dense(10,activation='sigmoid')    \n",
    "])\n",
    "\n",
    "ann_model.compile(optimizer='SGD',\n",
    "              loss='sparse_categorical_crossentropy',\n",
    "              metrics=['accuracy']\n",
    "             )\n",
    "\n",
    "ann_model.fit(X_train,y_train,epochs=5)"
   ]
  },
  {
   "cell_type": "code",
   "execution_count": 11,
   "id": "2f5b84bc",
   "metadata": {},
   "outputs": [
    {
     "name": "stdout",
     "output_type": "stream",
     "text": [
      "313/313 [==============================] - 4s 13ms/step - loss: 1.4428 - accuracy: 0.4894\n"
     ]
    },
    {
     "data": {
      "text/plain": [
       "[1.4427884817123413, 0.4893999993801117]"
      ]
     },
     "execution_count": 11,
     "metadata": {},
     "output_type": "execute_result"
    }
   ],
   "source": [
    "ann_model.evaluate(X_test,y_test)"
   ]
  },
  {
   "cell_type": "code",
   "execution_count": 12,
   "id": "a559a598",
   "metadata": {},
   "outputs": [
    {
     "name": "stdout",
     "output_type": "stream",
     "text": [
      "313/313 [==============================] - 4s 13ms/step\n"
     ]
    }
   ],
   "source": [
    "pred=ann_model.predict(X_test)\n",
    "pred_classes=[np.argmax(element) for element in pred]"
   ]
  },
  {
   "cell_type": "code",
   "execution_count": 13,
   "id": "9f79508d",
   "metadata": {},
   "outputs": [
    {
     "name": "stdout",
     "output_type": "stream",
     "text": [
      "              precision    recall  f1-score   support\n",
      "\n",
      "           0       0.42      0.71      0.52      1000\n",
      "           1       0.70      0.47      0.56      1000\n",
      "           2       0.44      0.31      0.36      1000\n",
      "           3       0.43      0.17      0.25      1000\n",
      "           4       0.45      0.41      0.43      1000\n",
      "           5       0.33      0.52      0.40      1000\n",
      "           6       0.51      0.61      0.55      1000\n",
      "           7       0.60      0.52      0.56      1000\n",
      "           8       0.64      0.57      0.61      1000\n",
      "           9       0.56      0.60      0.58      1000\n",
      "\n",
      "    accuracy                           0.49     10000\n",
      "   macro avg       0.51      0.49      0.48     10000\n",
      "weighted avg       0.51      0.49      0.48     10000\n",
      "\n"
     ]
    }
   ],
   "source": [
    "print(classification_report(y_test,pred_classes))"
   ]
  },
  {
   "cell_type": "markdown",
   "id": "332498c9",
   "metadata": {},
   "source": [
    "### convolutional neural network"
   ]
  },
  {
   "cell_type": "code",
   "execution_count": 14,
   "id": "96cb9ef9",
   "metadata": {},
   "outputs": [],
   "source": [
    "cnn_model=models.Sequential([\n",
    "    layers.Conv2D(filters=32,activation='relu',kernel_size=(3,3),input_shape=(32,32,3)),\n",
    "    layers.MaxPooling2D((2,2)),\n",
    "    \n",
    "    layers.Conv2D(filters=64,kernel_size=(3,3),activation='relu'),\n",
    "    layers.MaxPooling2D((2,2)),\n",
    "    \n",
    "    layers.Flatten(),\n",
    "    layers.Dense(64,activation='relu'),\n",
    "    layers.Dense(10,activation='softmax')    \n",
    "])\n"
   ]
  },
  {
   "cell_type": "code",
   "execution_count": 15,
   "id": "cabcdd73",
   "metadata": {},
   "outputs": [
    {
     "name": "stdout",
     "output_type": "stream",
     "text": [
      "Epoch 1/5\n",
      "1563/1563 [==============================] - 37s 23ms/step - loss: 1.5035 - accuracy: 0.4581\n",
      "Epoch 2/5\n",
      "1563/1563 [==============================] - 36s 23ms/step - loss: 1.1431 - accuracy: 0.5970\n",
      "Epoch 3/5\n",
      "1563/1563 [==============================] - 36s 23ms/step - loss: 1.0121 - accuracy: 0.6484\n",
      "Epoch 4/5\n",
      "1563/1563 [==============================] - 37s 24ms/step - loss: 0.9253 - accuracy: 0.6781\n",
      "Epoch 5/5\n",
      "1563/1563 [==============================] - 40s 26ms/step - loss: 0.8656 - accuracy: 0.6978\n"
     ]
    },
    {
     "data": {
      "text/plain": [
       "<keras.callbacks.History at 0x235baba92e0>"
      ]
     },
     "execution_count": 15,
     "metadata": {},
     "output_type": "execute_result"
    }
   ],
   "source": [
    "cnn_model.compile(optimizer='adam',\n",
    "              loss='sparse_categorical_crossentropy',\n",
    "              metrics=['accuracy']\n",
    "             )\n",
    "\n",
    "cnn_model.fit(X_train,y_train,epochs=5)"
   ]
  },
  {
   "cell_type": "code",
   "execution_count": 16,
   "id": "6c693c8a",
   "metadata": {},
   "outputs": [
    {
     "name": "stdout",
     "output_type": "stream",
     "text": [
      "313/313 [==============================] - 3s 8ms/step - loss: 0.9281 - accuracy: 0.6825\n"
     ]
    },
    {
     "data": {
      "text/plain": [
       "[0.9280776381492615, 0.6825000047683716]"
      ]
     },
     "execution_count": 16,
     "metadata": {},
     "output_type": "execute_result"
    }
   ],
   "source": [
    "cnn_model.evaluate(X_test,y_test)"
   ]
  },
  {
   "cell_type": "code",
   "execution_count": 17,
   "id": "f84d59d0",
   "metadata": {},
   "outputs": [
    {
     "name": "stdout",
     "output_type": "stream",
     "text": [
      "313/313 [==============================] - 2s 7ms/step\n"
     ]
    }
   ],
   "source": [
    "pred_2=cnn_model.predict(X_test)\n",
    "pred_classes_2=[np.argmax(element) for element in pred_2]"
   ]
  },
  {
   "cell_type": "code",
   "execution_count": 18,
   "id": "1e7195f7",
   "metadata": {},
   "outputs": [
    {
     "name": "stdout",
     "output_type": "stream",
     "text": [
      "              precision    recall  f1-score   support\n",
      "\n",
      "           0       0.75      0.64      0.69      1000\n",
      "           1       0.84      0.78      0.81      1000\n",
      "           2       0.53      0.58      0.56      1000\n",
      "           3       0.49      0.54      0.51      1000\n",
      "           4       0.62      0.65      0.63      1000\n",
      "           5       0.58      0.60      0.59      1000\n",
      "           6       0.76      0.79      0.77      1000\n",
      "           7       0.78      0.69      0.73      1000\n",
      "           8       0.79      0.79      0.79      1000\n",
      "           9       0.78      0.75      0.77      1000\n",
      "\n",
      "    accuracy                           0.68     10000\n",
      "   macro avg       0.69      0.68      0.69     10000\n",
      "weighted avg       0.69      0.68      0.69     10000\n",
      "\n"
     ]
    }
   ],
   "source": [
    "print(classification_report(y_test,pred_classes_2))"
   ]
  },
  {
   "cell_type": "code",
   "execution_count": null,
   "id": "5ce35b5d",
   "metadata": {},
   "outputs": [],
   "source": []
  }
 ],
 "metadata": {
  "kernelspec": {
   "display_name": "Python 3 (ipykernel)",
   "language": "python",
   "name": "python3"
  },
  "language_info": {
   "codemirror_mode": {
    "name": "ipython",
    "version": 3
   },
   "file_extension": ".py",
   "mimetype": "text/x-python",
   "name": "python",
   "nbconvert_exporter": "python",
   "pygments_lexer": "ipython3",
   "version": "3.9.7"
  }
 },
 "nbformat": 4,
 "nbformat_minor": 5
}
